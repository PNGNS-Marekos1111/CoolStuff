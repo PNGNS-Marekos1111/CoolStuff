{
  "nbformat": 4,
  "nbformat_minor": 0,
  "metadata": {
    "colab": {
      "provenance": [],
      "authorship_tag": "ABX9TyM6rF5GLS+YTJme3fyHbVph"
    },
    "kernelspec": {
      "name": "python3",
      "display_name": "Python 3"
    },
    "language_info": {
      "name": "python"
    }
  },
  "cells": [
    {
      "cell_type": "markdown",
      "source": [
        "<html>\n",
        "<h1>Data Science Tools and Ecosystem</h1>\n",
        "</html>"
      ],
      "metadata": {
        "id": "6LsOwqeQ2uQj"
      }
    },
    {
      "cell_type": "markdown",
      "source": [
        "In this notebook, Data Science Tools and Ecosystem are summarized."
      ],
      "metadata": {
        "id": "IWak9wbr3aNU"
      }
    },
    {
      "cell_type": "markdown",
      "source": [
        "Some of the popular languages that Data Scientists use are:\n",
        "\n",
        "\n",
        "1.   Python!!!\n",
        "2.   R\n",
        "3.   Scala\n",
        "4.   MATLAB\n"
      ],
      "metadata": {
        "id": "eywMxVpT3yB1"
      }
    },
    {
      "cell_type": "markdown",
      "source": [
        "Some of the commonly used libraries used by Data Scientists include:\n",
        "\n",
        "\n",
        "1.   Pandas\n",
        "2.   scikit-learn\n",
        "3.   TensorFlow\n",
        "\n"
      ],
      "metadata": {
        "id": "dyb0pk994S_L"
      }
    },
    {
      "cell_type": "markdown",
      "source": [
        "| Data Science Tools. |\n",
        "|---------------------|\n",
        "|Jupyter|\n",
        "|GitHub|\n",
        "|RStudio|\n",
        "|Apache Spark|"
      ],
      "metadata": {
        "id": "bRN5Jkza4pBW"
      }
    },
    {
      "cell_type": "markdown",
      "source": [
        "<h3>Below are a few examples of evaluating arithmetic expressions in Python</h3>"
      ],
      "metadata": {
        "id": "JYMPC7Cb5nf0"
      }
    },
    {
      "cell_type": "code",
      "execution_count": 1,
      "metadata": {
        "colab": {
          "base_uri": "https://localhost:8080/"
        },
        "id": "eXpeEFM42mfA",
        "outputId": "c603fd1c-e864-41f1-c155-10c765eb4f4e"
      },
      "outputs": [
        {
          "output_type": "execute_result",
          "data": {
            "text/plain": [
              "17"
            ]
          },
          "metadata": {},
          "execution_count": 1
        }
      ],
      "source": [
        "(3*4)+5 #This a simple arithmetic expression to mutiply then add integers"
      ]
    },
    {
      "cell_type": "code",
      "source": [
        "200/60 #This will convert 200 minutes to hours by diving by 60"
      ],
      "metadata": {
        "colab": {
          "base_uri": "https://localhost:8080/"
        },
        "id": "dsh6IJD72t09",
        "outputId": "ccb1207e-be0b-491d-8ad7-194fe85f0f34"
      },
      "execution_count": 2,
      "outputs": [
        {
          "output_type": "execute_result",
          "data": {
            "text/plain": [
              "3.3333333333333335"
            ]
          },
          "metadata": {},
          "execution_count": 2
        }
      ]
    },
    {
      "cell_type": "markdown",
      "source": [
        "**Objectives:**\n",
        "\n",
        "\n",
        "*   Open Source DS Tools\n",
        "*   Popular DS Libraries\n",
        "*   Markdown and Python in Jupyter\n",
        "\n"
      ],
      "metadata": {
        "id": "rG92iUc76PV0"
      }
    },
    {
      "cell_type": "markdown",
      "source": [
        "<h2>Author</h2>\n",
        "MC\n"
      ],
      "metadata": {
        "id": "XxOHDmIL6z4p"
      }
    },
    {
      "cell_type": "code",
      "source": [],
      "metadata": {
        "id": "u-LwrlsP6HpI"
      },
      "execution_count": null,
      "outputs": []
    }
  ]
}